{
 "cells": [
  {
   "cell_type": "markdown",
   "metadata": {},
   "source": [
    "# **SOLLDA1 MCO: IBM HR Analytics Employee Attrition & Performance**"
   ]
  },
  {
   "cell_type": "markdown",
   "metadata": {},
   "source": [
    "## **I. Objective** \n",
    "### Clearly state the objective of the analysis, what problem or question the group aims to address with the data. "
   ]
  },
  {
   "cell_type": "markdown",
   "metadata": {},
   "source": [
    "This analysis aims to **understand the key factors influencing employee attrition and career growth within IBM**. By examining attributes such as job role, performance rating, years at the company, work-life balance, and employee satisfaction, the group can identify patterns that contribute to voluntary and involuntary departures. In addition, the study will help in recognizing high-potential employees suitable for promotion by leveraging data on job involvement, training opportunities, and post career progression. Through this approach, the group seeks to enhance employee retention strategies and optimize internal talent management. "
   ]
  },
  {
   "cell_type": "markdown",
   "metadata": {},
   "source": [
    "## **II. Problem Statement** \n",
    "### Explain the problem or question the analysis seeks to solve or explore. A clear and concise statement of the challenge and the significance is needed. "
   ]
  },
  {
   "cell_type": "markdown",
   "metadata": {},
   "source": [
    "High employee turnover and ineffective talent management at IBM lead to increased costs and lost productivity. This analysis seeks to:  \n",
    "1. **Identify factors driving attrition** (e.g., job role, satisfaction, work-life balance).  \n",
    "2. **Spot high-potential employees for promotion** based on performance, training, and career growth.  \n",
    "3. **Improve retention strategies** to reduce turnover and enhance employee satisfaction.  \n",
    "\n",
    "By addressing these issues, IBM can reduce costs, retain top talent, and optimize workforce performance."
   ]
  },
  {
   "cell_type": "markdown",
   "metadata": {},
   "source": [
    "## **III. Background** \n",
    "### Provide context about the data and the problem domain. Explain where data came from, including its source, collection methds, and any relevant information about its reliability and completeness. "
   ]
  },
  {
   "cell_type": "markdown",
   "metadata": {},
   "source": [
    "Employee attrition and talent management are critical issues in the corporate world, as high turnover rates can disrupt operations, increase recruitment costs, and reduce morale. To address these challenges, organizations like IBM can leverage data-driven insights to understand why employees leave and how to identify and retain top talent, ultimately improving workforce stability and performance. The dataset used for this analysis is the **IBM HR Analytics Employee Attrition & Performance Dataset**, available on Kaggle, which contains anonymized employee data focusing on factors related to attrition, performance, and career growth. This data was likely collected through IBM's internal HR systems, including employee surveys, performance reviews, and HR records, and it includes both quantitative metrics (e.g., age, salary, years at the company) and qualitative metrics (e.g., job satisfaction, work-life balance) to provide a comprehensive view of employee dynamics."
   ]
  },
  {
   "cell_type": "markdown",
   "metadata": {},
   "source": [
    "## **IV. Data Source**\n",
    "### Describe the origin of the data, whether it was collected internally or obtained from external sources. Include details such as data provider, data format, and the time period covered by the data. "
   ]
  },
  {
   "cell_type": "markdown",
   "metadata": {},
   "source": [
    "The data provider is IBM, and it contains anonymized employee records focusing on factors related to attrition, performance, and career growth. The data was likely gathered through IBM's internal HR systems, including employee surveys, performance reviews, and HR records, and is provided in a structured tabular format (e.g., CSV or Excel). It includes both quantitative metrics (e.g., age, salary, years at the company) and qualitative metrics (e.g., job satisfaction, work-life balance), offering a comprehensive view of employee dynamics.\n",
    "\n",
    "While the dataset does not explicitly specify the time period it covers, it appears to represent a snapshot of IBM's workforce at a specific point in time, likely spanning multiple years of employee tenure and performance data"
   ]
  },
  {
   "cell_type": "markdown",
   "metadata": {},
   "source": [
    "## **V. Data Description** \n",
    "### Provide a brief overview of the data's structure and contents. Mention the key variables and their meanings. Include any preprocessing steps performed, such as data cleaning, and/or feature engineering."
   ]
  },
  {
   "cell_type": "markdown",
   "metadata": {},
   "source": [
    "Import necessary libraries"
   ]
  },
  {
   "cell_type": "code",
   "execution_count": null,
   "metadata": {},
   "outputs": [],
   "source": [
    "import pandas as pd \n",
    "import numpy as np\n",
    "import matplotlib.pyplot as plt\n",
    "import seaborn as sns "
   ]
  },
  {
   "cell_type": "markdown",
   "metadata": {},
   "source": [
    "Load the dataset"
   ]
  },
  {
   "cell_type": "code",
   "execution_count": null,
   "metadata": {},
   "outputs": [],
   "source": [
    "df = pd.read_csv('IBM-HR-Employee-Attrition.csv') \n",
    "df"
   ]
  },
  {
   "cell_type": "markdown",
   "metadata": {},
   "source": [
    "Display column names and data types"
   ]
  },
  {
   "cell_type": "code",
   "execution_count": null,
   "metadata": {},
   "outputs": [],
   "source": [
    "df.info()"
   ]
  },
  {
   "cell_type": "markdown",
   "metadata": {},
   "source": [
    "The dataset consists of 35 columns that capture different aspects of employees' professional background, work conditions, and job satisfaction. Below is an explanation of each variable: "
   ]
  },
  {
   "cell_type": "markdown",
   "metadata": {},
   "source": [
    "#### **1. Employee Demographics** \n",
    "- **Age** (*int*) - The age of the employee. \n",
    "\n",
    "- **Gender** (*object*) - The gender of the employee (e.g., Male, Female). \n",
    "\n",
    "- **MaritalStatus** (*object*) - The marital status of the employee (e.g., Single, Married, Divorced). \n",
    "\n",
    "- **Education** (*int*) - Level of education on a scale (1 to 5) where: \n",
    "    - 1 = Below College \n",
    "    - 2 = College \n",
    "    - 3 = Bachelor \n",
    "    - 4 = Master \n",
    "    - 5 = Doctorate \n",
    "    \n",
    "- **EducationField** (*object*) - The field of education (e.g., Life Sciences, Marketing, Technical Degree)."
   ]
  },
  {
   "cell_type": "markdown",
   "metadata": {},
   "source": [
    "#### **2. Job and Work Details** \n",
    "- **JobRole** (*object*) - The specific job title of the employee (e.g., Sales Executive, Research Scientist). \n",
    "\n",
    "- **Department** (*object*) - The department in which the employee works (e.g., Sales, Research & Development, Human Resources). \n",
    "\n",
    "- **JobLevel** (*int*) - The hierarchichal level of the job within the organization (e.g., 1 = Entry Level, 5 = Senior Management). \n",
    "\n",
    "- **JobInvolvement** (*int*) - Level of employee involvement in the job.  \n",
    "    - 1 = Low \n",
    "    - 2 = Medium \n",
    "    - 3 = High \n",
    "    - 4 = Very High \n",
    "\n",
    "- **JobSatisfaction** (*int*) - Employee satisfaction with the job. \n",
    "    - 1 = Low \n",
    "    - 2 = Medium \n",
    "    - 3 = High \n",
    "    - 4 = Very High \n",
    "\n",
    "- **WorkLifeBalance** (*int*) - Employee's perception of work-life balance. \n",
    "    - 1 = Bad \n",
    "    - 2 = Good \n",
    "    - 3 = Better \n",
    "    - 4 = Best\n",
    "\n",
    "- **OverTime** (*object*) - Indicates whether the employee works overtime (Yes/No). \n",
    "\n",
    "- **StandardHours** (*int*) - Standard working hours for employees (appears to be a constant value). "
   ]
  },
  {
   "cell_type": "markdown",
   "metadata": {},
   "source": [
    "#### **3. Compensation and Benefits** \n",
    "- **HourlyRate** (*int*) - The hourly wage of the employee. \n",
    "\n",
    "- **DailyRate** (*int*) - The daily pay rate of the employee. \n",
    "\n",
    "- **Monthly Income** (*int*) - The total monthly earnings of the employee. \n",
    "\n",
    "- **StockOptionLevel** (*int*) - Stock option level granted to the employee (0 = No stock options, 3 = High stock options). \n",
    "\n",
    "- **PercentageSalaryHike** (*int*) - Percentage increase in salary after the last performance review. "
   ]
  },
  {
   "cell_type": "markdown",
   "metadata": {},
   "source": [
    "#### **4. Employment History and Tenure** \n",
    "- **YearsAtCompany** (*int*) - The number of years the employee has been with the company. \n",
    "\n",
    "- **YearsInCurrentRole** (*int*) - The number of years the employee has been in their current role. \n",
    "\n",
    "- **YearsSinceLastPromotion** (*int*) - The number of years since the employee's last promotion. \n",
    "\n",
    "- **YearsWithCurrManager** (*int*) - The number of years the employee has worked with their current manager. \n",
    "\n",
    "- **TotalWorkingYears** (*int*) - The total number of years the employee has worked in their career. \n",
    "\n",
    "- **NumCompaniesWorked** (*int*) - The number of revious companies the employee has worked for. "
   ]
  },
  {
   "cell_type": "markdown",
   "metadata": {},
   "source": [
    "#### **5. Employee Satisfaction and Performance** \n",
    "- **PerformanceRating** (*int*) - Employee's most recent performance rating. \n",
    "    - 1 = Low \n",
    "    - 2 = Good \n",
    "    - 3 = Excellent \n",
    "    - 4 = Outstanding \n",
    "\n",
    "- **RelationShipSatisfaction** (*int*) - Employee's satisfaction with their relationships at work. \n",
    "    - 1 = Low \n",
    "    - 2 = Medium \n",
    "    - 3 = High \n",
    "    - 4 = Very High\n",
    "\n",
    "- **EnvironmentSatisfaction** (*int*) - Employee's satisfaction with the work environment (Scale: 1 = Low, 4 = High). \n",
    "    - 1 = Low \n",
    "    - 2 = Medium \n",
    "    - 3 = High \n",
    "    - 4 = Very High\n",
    "\n",
    "- **TrainingTimesLastYear** (*int*) - Number of training sessions attended by the employee in the last year."
   ]
  },
  {
   "cell_type": "markdown",
   "metadata": {},
   "source": [
    "#### **6. Attrition and Travel** \n",
    "- **Attrition** (*object*) - Indicates whether the employee has left the company (Yes/No). \n",
    "\n",
    "- **BusinessTravel** (*object*) - Frequency of business travel (e.g., Travel_Rarely, Travel_Frequently, Non-Travel).\n",
    "\n",
    "- **DistanceFromHome** (*int*) - The distance between the employee's home and workplace. "
   ]
  },
  {
   "cell_type": "markdown",
   "metadata": {},
   "source": [
    "#### **7. Miscellaneous** \n",
    "- **EmployeeNumber** (*int*) - Unique ID assigned to each employee. \n",
    "\n",
    "- **EmployeeCount** (*int*) - Seems to be a constant column (always 1). \n",
    "\n",
    "- **Over18** (*object*) - Indicates if the employee is over 18 (constant \"Y\" for all). "
   ]
  },
  {
   "cell_type": "markdown",
   "metadata": {},
   "source": [
    " Dropping columns due to redundancy or minimal impact"
   ]
  },
  {
   "cell_type": "markdown",
   "metadata": {},
   "source": [
    "- **EmployeeNumber** - just an ID, not useful for the analysis.\n",
    "- **HourlyRate, DailyRate** -  These are compensation-related columns. While compensation can influence attrition, Monthly Income is sufficient to capture this information. Drop HourlyRate and DailyRate to avoid redundancy.\n",
    "- **EmployeeCount** - Constant value (always 1).\n",
    "- **Over18** - Constant value (always \"Y\").\n",
    "- **StandardHours** - Constant value (likely the same for all employees).\n",
    "\n"
   ]
  },
  {
   "cell_type": "code",
   "execution_count": null,
   "metadata": {},
   "outputs": [],
   "source": [
    "df.drop(columns=['EmployeeNumber', 'HourlyRate', 'DailyRate', 'EmployeeCount', 'Over18', 'StandardHours'], inplace=True)"
   ]
  },
  {
   "cell_type": "markdown",
   "metadata": {},
   "source": [
    "Check for duplicates (if any)"
   ]
  },
  {
   "cell_type": "code",
   "execution_count": null,
   "metadata": {},
   "outputs": [],
   "source": [
    "df.duplicated().sum()"
   ]
  },
  {
   "cell_type": "markdown",
   "metadata": {},
   "source": [
    "Detect any outliers in the data"
   ]
  },
  {
   "cell_type": "code",
   "execution_count": null,
   "metadata": {},
   "outputs": [],
   "source": [
    "plt.figure(figsize=(16, 10)) \n",
    "df.select_dtypes(include=['int64', 'float64']).boxplot(rot=90) \n",
    "plt.title(\"Outliers in Numerical Features\")\n",
    "plt.show()"
   ]
  },
  {
   "cell_type": "markdown",
   "metadata": {},
   "source": [
    "Categorical features need to be converted into numerical values using label encoding, one-hot encoding, or ordinal encoding."
   ]
  },
  {
   "cell_type": "markdown",
   "metadata": {},
   "source": [
    "Label Encoding for Binary Categorical Columns"
   ]
  },
  {
   "cell_type": "code",
   "execution_count": null,
   "metadata": {},
   "outputs": [],
   "source": [
    "from sklearn.preprocessing import LabelEncoder\n",
    "\n",
    "binary_categorical_columns = ['Gender', 'OverTime', 'Attrition']\n",
    "\n",
    "label_encoder = LabelEncoder()\n",
    "\n",
    "for col in binary_categorical_columns:\n",
    "    df[col] = label_encoder.fit_transform(df[col])"
   ]
  },
  {
   "cell_type": "markdown",
   "metadata": {},
   "source": [
    "Ordinal Encoding for BusinessTravel"
   ]
  },
  {
   "cell_type": "code",
   "execution_count": null,
   "metadata": {},
   "outputs": [],
   "source": [
    "business_travel_mapping = {\n",
    "    'Non-Travel': 0,\n",
    "    'Travel_Rarely': 1,\n",
    "    'Travel_Frequently': 2\n",
    "}\n",
    "\n",
    "df['BusinessTravel'] = df['BusinessTravel'].map(business_travel_mapping)"
   ]
  },
  {
   "cell_type": "markdown",
   "metadata": {},
   "source": [
    "Numerical columns need scaling to ensure they are on a similar scale for modeling."
   ]
  },
  {
   "cell_type": "markdown",
   "metadata": {},
   "source": [
    "Columns to transform:\n",
    "- **Age (int)**\n",
    "- **DistanceFromHome (int)**:\n",
    "- **Monthly Income (int)**:\n",
    "- **PercentageSalaryHike (int)**:\n",
    "- **YearsAtCompany (int)**:\n",
    "- **YearsInCurrentRole (int)**:\n",
    "- **YearsSinceLastPromotion (int)**:\n",
    "- **YearsWithCurrManager (int)**:\n",
    "- **TotalWorkingYears (int)**:\n",
    "- **NumCompaniesWorked (int)**:\n",
    "- **TrainingTimesLastYear (int)**:\n"
   ]
  },
  {
   "cell_type": "code",
   "execution_count": null,
   "metadata": {},
   "outputs": [],
   "source": [
    "from sklearn.preprocessing import StandardScaler\n",
    "\n",
    "numerical_columns = [\n",
    "    'Age', 'DistanceFromHome', 'MonthlyIncome', 'PercentSalaryHike', \n",
    "    'YearsAtCompany', 'YearsInCurrentRole', 'YearsSinceLastPromotion', \n",
    "    'YearsWithCurrManager', 'TotalWorkingYears', 'NumCompaniesWorked', \n",
    "    'TrainingTimesLastYear'\n",
    "]\n",
    "\n",
    "scaler = StandardScaler()\n",
    "\n",
    "df[numerical_columns] = scaler.fit_transform(df[numerical_columns])"
   ]
  },
  {
   "cell_type": "markdown",
   "metadata": {},
   "source": [
    "#### **Feature Engineering**"
   ]
  },
  {
   "cell_type": "markdown",
   "metadata": {},
   "source": [
    "We can create new features to capture additional insights: \n",
    "\n",
    "- **PromotionStagnation** : Ratio of YearsSinceLastPromotion to YearsAtCompany.\n",
    "- **RoleStagnation** : Ratio of YearsInCurrentRole to YearsAtCompany.\n",
    "- **ManagerTenureImpact** : Ratio of YearsWithCurrManager to YearsAtCompany.\n",
    "- **IncomeToHikeRatio** : Ratio of Monthly Income to PercentageSalaryHike.\n",
    "\n",
    "Creating new features like PromotionStagnation, RoleStagnation, ManagerTenureImpact, and IncomeToHikeRatio can provide deeper insights into employee behavior, satisfaction, and career progression. These engineered features capture relationships between existing variables that might not be immediately apparent, helping us better understand the factors influencing employee attrition and career growth. "
   ]
  },
  {
   "cell_type": "code",
   "execution_count": null,
   "metadata": {},
   "outputs": [],
   "source": [
    "df['PromotionStagnation'] = df['YearsSinceLastPromotion'] / df['YearsAtCompany']\n",
    "df['RoleStagnation'] = df['YearsInCurrentRole'] / df['YearsAtCompany']\n",
    "df['ManagerTenureImpact'] = df['YearsWithCurrManager'] / df['YearsAtCompany']\n",
    "df['IncomeToHikeRatio'] = df['MonthlyIncome'] / df['PercentSalaryHike']\n",
    "\n",
    "df.fillna(0, inplace=True) "
   ]
  },
  {
   "cell_type": "markdown",
   "metadata": {},
   "source": [
    "Here is the new and transformed dataset"
   ]
  },
  {
   "cell_type": "code",
   "execution_count": null,
   "metadata": {},
   "outputs": [],
   "source": [
    "df.head()"
   ]
  },
  {
   "cell_type": "markdown",
   "metadata": {},
   "source": [
    "## **VI. Exploratory Data Analysis** "
   ]
  },
  {
   "cell_type": "markdown",
   "metadata": {},
   "source": [
    "#### 1. Data Overview  "
   ]
  },
  {
   "cell_type": "markdown",
   "metadata": {},
   "source": [
    " Summary statistics (mean, median, standard deviation, etc.)."
   ]
  },
  {
   "cell_type": "code",
   "execution_count": null,
   "metadata": {},
   "outputs": [],
   "source": [
    "df.describe(include='all')"
   ]
  },
  {
   "cell_type": "markdown",
   "metadata": {},
   "source": [
    "Data dimensions (number of rows and columns). "
   ]
  },
  {
   "cell_type": "code",
   "execution_count": null,
   "metadata": {},
   "outputs": [],
   "source": [
    "df.shape"
   ]
  },
  {
   "cell_type": "markdown",
   "metadata": {},
   "source": [
    "Data types and data distribution (categorical, numerical, etc.)"
   ]
  },
  {
   "cell_type": "code",
   "execution_count": null,
   "metadata": {},
   "outputs": [],
   "source": [
    "df.dtypes"
   ]
  },
  {
   "cell_type": "code",
   "execution_count": null,
   "metadata": {},
   "outputs": [],
   "source": [
    "numerical_columns = df.select_dtypes(include=['int64', 'float64']).columns\n",
    "df[numerical_columns].hist(bins=20, figsize=(20, 15))\n",
    "plt.suptitle(\"Distribution of Numerical Variables\")\n",
    "plt.show()"
   ]
  },
  {
   "cell_type": "markdown",
   "metadata": {},
   "source": [
    "Missing data and handling strategies. \n"
   ]
  },
  {
   "cell_type": "code",
   "execution_count": null,
   "metadata": {},
   "outputs": [],
   "source": [
    "df.isnull().sum()"
   ]
  },
  {
   "cell_type": "markdown",
   "metadata": {},
   "source": [
    "Since there are no missing data, no data handling is necessary."
   ]
  },
  {
   "cell_type": "markdown",
   "metadata": {},
   "source": [
    "#### 2. Univariate Analysis"
   ]
  },
  {
   "cell_type": "markdown",
   "metadata": {},
   "source": [
    "Visualizations and summary statistics for individual variables."
   ]
  },
  {
   "cell_type": "code",
   "execution_count": null,
   "metadata": {},
   "outputs": [],
   "source": [
    "numerical_columns = df.select_dtypes(include=['int64', 'float64']).columns\n",
    "df[numerical_columns].describe()"
   ]
  },
  {
   "cell_type": "markdown",
   "metadata": {},
   "source": [
    "Box plots show the distribution of numerical variables and identify outliers."
   ]
  },
  {
   "cell_type": "code",
   "execution_count": null,
   "metadata": {},
   "outputs": [],
   "source": [
    "for col in numerical_columns:\n",
    "    plt.figure(figsize=(4, 2))\n",
    "    sns.boxplot(data=df, x=col, palette='viridis')\n",
    "    plt.title(f\"Box Plot of {col}\")\n",
    "    plt.show()"
   ]
  },
  {
   "cell_type": "markdown",
   "metadata": {},
   "source": [
    "Below, we created a function to detect outliers. Outliers can be identified using box plots or statistical methods like the Interquartile Range (IQR)."
   ]
  },
  {
   "cell_type": "markdown",
   "metadata": {},
   "source": [
    "The IQR method identifies outliers as values below Q1 - 1.5 X IQR or abvoe Q3 + 1.5 X IQR."
   ]
  },
  {
   "cell_type": "code",
   "execution_count": null,
   "metadata": {},
   "outputs": [],
   "source": [
    "def detect_outliers(df, column):\n",
    "    Q1 = df[column].quantile(0.25)\n",
    "    Q3 = df[column].quantile(0.75)\n",
    "    IQR = Q3 - Q1\n",
    "    lower_bound = Q1 - 1.5 * IQR\n",
    "    upper_bound = Q3 + 1.5 * IQR\n",
    "    outliers = df[(df[column] < lower_bound) | (df[column] > upper_bound)]\n",
    "    return outliers\n",
    "\n",
    "numerical_columns = df.select_dtypes(include=['int64', 'float64']).columns\n",
    "\n",
    "for col in numerical_columns:\n",
    "    outliers = detect_outliers(df, col)\n",
    "    print(f\"Number of outliers in {col}: {len(outliers)}\")\n",
    "    print(\"-\" * 50)"
   ]
  },
  {
   "cell_type": "markdown",
   "metadata": {},
   "source": [
    "#### 3. Bivariate Analysis"
   ]
  },
  {
   "cell_type": "markdown",
   "metadata": {},
   "source": [
    "##### **Attrition by Department**"
   ]
  },
  {
   "cell_type": "code",
   "execution_count": null,
   "metadata": {},
   "outputs": [],
   "source": [
    "plt.figure(figsize=(10, 4))\n",
    "sns.countplot(x='Department', hue='Attrition', data=df)\n",
    "plt.title(\"Attrition Rate by Department\")\n",
    "plt.xticks(rotation=45)\n",
    "plt.show()"
   ]
  },
  {
   "cell_type": "markdown",
   "metadata": {},
   "source": [
    "**Findings** <br>\n",
    "The Research & Development department has the highest number of retained employees, followed by the Sales department and then Human Resources. The ranking of departments in terms of employee attrition follows the same order. The attrition rate is approximately one-third of the total workforce in each department."
   ]
  },
  {
   "cell_type": "markdown",
   "metadata": {},
   "source": [
    "##### **Monthly Income and Attrition**"
   ]
  },
  {
   "cell_type": "code",
   "execution_count": null,
   "metadata": {},
   "outputs": [],
   "source": [
    "plt.figure(figsize=(8, 6))\n",
    "sns.boxplot(x='Attrition', y='MonthlyIncome', data=df)\n",
    "plt.title(\"Monthly Income Distribution by Attrition\")\n",
    "plt.show()"
   ]
  },
  {
   "cell_type": "markdown",
   "metadata": {},
   "source": [
    "**Findings**<br>\n"
   ]
  },
  {
   "cell_type": "markdown",
   "metadata": {},
   "source": [
    "##### **Overtime vs. Attrition**"
   ]
  },
  {
   "cell_type": "code",
   "execution_count": null,
   "metadata": {},
   "outputs": [],
   "source": [
    "plt.figure(figsize=(6, 4))\n",
    "sns.barplot(x='OverTime', y='Attrition', data=df)\n",
    "plt.title(\"Impact of Overtime on Attrition\")\n",
    "plt.show()"
   ]
  },
  {
   "cell_type": "markdown",
   "metadata": {},
   "source": [
    "**Findings** <br>\n",
    "Employees who work overtime tend to have a higher chance of leaving."
   ]
  },
  {
   "cell_type": "markdown",
   "metadata": {},
   "source": [
    "##### **Work-Life and Attrition**"
   ]
  },
  {
   "cell_type": "code",
   "execution_count": null,
   "metadata": {},
   "outputs": [],
   "source": [
    "plt.figure(figsize=(6, 4))\n",
    "sns.boxplot(x='WorkLifeBalance', y='Attrition', data=df)\n",
    "plt.title(\"Work-Life Balance Effect on Attrition\")\n",
    "plt.show()"
   ]
  },
  {
   "cell_type": "markdown",
   "metadata": {},
   "source": [
    "##### **Job Satisfaction and Attrition**"
   ]
  },
  {
   "cell_type": "code",
   "execution_count": null,
   "metadata": {},
   "outputs": [],
   "source": [
    "plt.figure(figsize=(6, 4))\n",
    "sns.countplot(x='JobSatisfaction', hue='Attrition', data=df)\n",
    "plt.title(\"Attrition by Job Satisfaction Levels\")\n",
    "plt.show()"
   ]
  },
  {
   "cell_type": "markdown",
   "metadata": {},
   "source": [
    "##### **Last Promotion Year and Attrition**"
   ]
  },
  {
   "cell_type": "code",
   "execution_count": null,
   "metadata": {},
   "outputs": [],
   "source": [
    "plt.figure(figsize=(8, 6))\n",
    "sns.histplot(data=df, x='YearsSinceLastPromotion', hue='Attrition', bins=10, kde=True)\n",
    "plt.title(\"Attrition by Years Since Last Promotion\")\n",
    "plt.show()"
   ]
  },
  {
   "cell_type": "markdown",
   "metadata": {},
   "source": [
    "##### **Marital Status and Attrition**"
   ]
  },
  {
   "cell_type": "code",
   "execution_count": null,
   "metadata": {},
   "outputs": [],
   "source": [
    "plt.figure(figsize=(6, 4))\n",
    "sns.countplot(x='MaritalStatus', hue='Attrition', data=df)\n",
    "plt.title(\"Attrition by Marital Status\")\n",
    "plt.show()"
   ]
  },
  {
   "cell_type": "markdown",
   "metadata": {},
   "source": [
    "##### **Education Field and Attrition**"
   ]
  },
  {
   "cell_type": "code",
   "execution_count": null,
   "metadata": {},
   "outputs": [],
   "source": [
    "plt.figure(figsize=(10, 6))\n",
    "sns.countplot(y='EducationField', hue='Attrition', data=df)\n",
    "plt.title(\"Attrition by Education Field\")\n",
    "plt.show()\n"
   ]
  },
  {
   "cell_type": "markdown",
   "metadata": {},
   "source": [
    "##### **Job Role and Attrition**"
   ]
  },
  {
   "cell_type": "code",
   "execution_count": null,
   "metadata": {},
   "outputs": [],
   "source": [
    "plt.figure(figsize=(12, 6))\n",
    "sns.countplot(y='JobRole', hue='Attrition', data=df)\n",
    "plt.title(\"Attrition by Job Role\")\n",
    "plt.show()\n"
   ]
  },
  {
   "cell_type": "markdown",
   "metadata": {},
   "source": [
    "##### **Summary of Bivariate Analysis Findings**"
   ]
  },
  {
   "cell_type": "markdown",
   "metadata": {},
   "source": [
    "- "
   ]
  },
  {
   "cell_type": "markdown",
   "metadata": {},
   "source": [
    "#### 4. Multivariate Analysis"
   ]
  },
  {
   "cell_type": "markdown",
   "metadata": {},
   "source": [
    "Due to the abundance of outliers found in the features we will be working on for our multivariate analysis, we will utilize PERMANOVA testing as opposed to MANOVA. The frequent outliers, particularly for YearsAtCompany (104) and PerformanceRating (226), caused skewedness which vioates the assumption of normal distribution of the dependent variables.\n",
    "\n",
    "Assumptions for PERNOVA Testing:\n",
    "\n",
    "1. Observations are randomly and independently sampled from the population\n",
    "2. Homogeneity of Multivariate Dispersion \n",
    "3. Each dependent variable has an interval measurement"
   ]
  },
  {
   "cell_type": "markdown",
   "metadata": {},
   "source": [
    "**1. Observations are randomly and independently sampled from the population**\n",
    "\n",
    "As mentioned in section **IV. Data Source**, the data is from anonymized employee records which should not contian duplicates by traditional standards."
   ]
  },
  {
   "cell_type": "markdown",
   "metadata": {},
   "source": [
    "**2. Homogeneity of Multivariate Dispersion**"
   ]
  },
  {
   "cell_type": "code",
   "execution_count": 105,
   "metadata": {},
   "outputs": [
    {
     "name": "stdout",
     "output_type": "stream",
     "text": [
      "PERMDISP Test (Homogeneity of Multivariate Dispersion):\n",
      "F_onewayResult(statistic=np.float64(0.6223717683688145), pvalue=np.float64(0.5368117107690501))\n"
     ]
    },
    {
     "name": "stderr",
     "output_type": "stream",
     "text": [
      "C:\\Users\\Matthew Sanchez\\AppData\\Local\\Temp\\ipykernel_9944\\1936226859.py:9: SettingWithCopyWarning: \n",
      "A value is trying to be set on a copy of a slice from a DataFrame.\n",
      "Try using .loc[row_indexer,col_indexer] = value instead\n",
      "\n",
      "See the caveats in the documentation: https://pandas.pydata.org/pandas-docs/stable/user_guide/indexing.html#returning-a-view-versus-a-copy\n",
      "  subset_df['MaritalStatus_encoded'] = label_encoder.fit_transform(subset_df['MaritalStatus'])\n",
      "C:\\Users\\Matthew Sanchez\\AppData\\Local\\Temp\\ipykernel_9944\\1936226859.py:23: SettingWithCopyWarning: \n",
      "A value is trying to be set on a copy of a slice from a DataFrame.\n",
      "Try using .loc[row_indexer,col_indexer] = value instead\n",
      "\n",
      "See the caveats in the documentation: https://pandas.pydata.org/pandas-docs/stable/user_guide/indexing.html#returning-a-view-versus-a-copy\n",
      "  subset_df['DistanceToCentroid'] = distances\n"
     ]
    }
   ],
   "source": [
    "from scipy.spatial.distance import cdist\n",
    "from scipy.stats import f_oneway\n",
    "from sklearn.preprocessing import LabelEncoder\n",
    "\n",
    "subset_df = df[['MaritalStatus', 'YearsAtCompany', 'JobSatisfaction', 'PerformanceRating']]\n",
    "\n",
    "# Encode 'MaritalStatus' for testing\n",
    "label_encoder = LabelEncoder()\n",
    "subset_df['MaritalStatus_encoded'] = label_encoder.fit_transform(subset_df['MaritalStatus'])\n",
    "\n",
    "# Check Homogeneity of Multivariate Dispersion (PERMDISP)\n",
    "# Calculate group centroids\n",
    "centroids = subset_df.groupby('MaritalStatus')[['YearsAtCompany', 'JobSatisfaction', 'PerformanceRating']].mean()\n",
    "\n",
    "# Compute distances to centroids\n",
    "distances = []\n",
    "for group in subset_df['MaritalStatus'].unique():\n",
    "    group_data = subset_df[subset_df['MaritalStatus'] == group][['YearsAtCompany', 'JobSatisfaction', 'PerformanceRating']]\n",
    "    centroid = centroids.loc[group].values\n",
    "    dists = cdist(group_data, [centroid])\n",
    "    distances.extend(dists.flatten())\n",
    "\n",
    "subset_df['DistanceToCentroid'] = distances\n",
    "\n",
    "# Perform ANOVA on the distances\n",
    "groups = [subset_df.loc[subset_df['MaritalStatus'] == group, 'DistanceToCentroid'].values for group in subset_df['MaritalStatus'].unique()]\n",
    "permdisp = f_oneway(*groups)\n",
    "print(\"PERMDISP Test (Homogeneity of Multivariate Dispersion):\")\n",
    "print(permdisp)"
   ]
  },
  {
   "cell_type": "markdown",
   "metadata": {},
   "source": [
    "We used PERMDISP Testing to check if the variance of the data points around the centroids is similar to the groups under MaritalStatus (Single, Married, or Divorced). PERMDISP assumes that the variances are equal."
   ]
  },
  {
   "cell_type": "markdown",
   "metadata": {},
   "source": [
    "**3. Each dependent variable has an interval measurement**"
   ]
  },
  {
   "cell_type": "code",
   "execution_count": 106,
   "metadata": {},
   "outputs": [
    {
     "name": "stdout",
     "output_type": "stream",
     "text": [
      "                   YearsAtCompany  JobSatisfaction  PerformanceRating\n",
      "YearsAtCompany           1.000000        -0.003803           0.003435\n",
      "JobSatisfaction         -0.003803         1.000000           0.002297\n",
      "PerformanceRating        0.003435         0.002297           1.000000\n"
     ]
    }
   ],
   "source": [
    "print(subset_df[['YearsAtCompany', 'JobSatisfaction', 'PerformanceRating']].corr())"
   ]
  },
  {
   "cell_type": "markdown",
   "metadata": {},
   "source": [
    "Using the built-in correlation function, we are able to see the numerical relationship between each of our dependent variables. Since each pairings are close to 0, we can say that there is a weak relationship between them."
   ]
  },
  {
   "cell_type": "markdown",
   "metadata": {},
   "source": [
    "**One-Way PERMANOVA Testing**"
   ]
  },
  {
   "cell_type": "code",
   "execution_count": 107,
   "metadata": {},
   "outputs": [
    {
     "name": "stdout",
     "output_type": "stream",
     "text": [
      "\n",
      "PERMANOVA Test:\n",
      "method name               PERMANOVA\n",
      "test statistic name        pseudo-F\n",
      "sample size                    1470\n",
      "number of groups                  3\n",
      "test statistic             1.829847\n",
      "p-value                       0.103\n",
      "number of permutations          999\n",
      "Name: PERMANOVA results, dtype: object\n"
     ]
    }
   ],
   "source": [
    "from skbio.stats.distance import permanova, DistanceMatrix\n",
    "\n",
    "dist_matrix = cdist(subset_df[['YearsAtCompany', 'JobSatisfaction', 'PerformanceRating']], subset_df[['YearsAtCompany', 'JobSatisfaction', 'PerformanceRating']])\n",
    "labels = subset_df['MaritalStatus'].values\n",
    "dm = DistanceMatrix(dist_matrix)\n",
    "permanova_result = permanova(dm, labels, permutations=999)\n",
    "print(\"\\nPERMANOVA Test:\")\n",
    "print(permanova_result)"
   ]
  },
  {
   "cell_type": "markdown",
   "metadata": {},
   "source": [
    "## **Reference/s** \n",
    "-   IBM HR Analytics Employee Attrition & Performance. (2017, March 31). https://www.kaggle.com/datasets/pavansubhasht/ibm-hr-analytics-attrition-dataset/data"
   ]
  },
  {
   "cell_type": "markdown",
   "metadata": {},
   "source": [
    "## **By Data Alchemists** \n",
    "- Bon, Jan Louise B. \n",
    "- Brodett, Ram David M.\n",
    "- Lopez, Ghee Kaye S. \n",
    "- Paguiligan, James Archer B. \n",
    "- Sanchez, Matthew Heinz O. "
   ]
  }
 ],
 "metadata": {
  "kernelspec": {
   "display_name": "Python 3",
   "language": "python",
   "name": "python3"
  },
  "language_info": {
   "codemirror_mode": {
    "name": "ipython",
    "version": 3
   },
   "file_extension": ".py",
   "mimetype": "text/x-python",
   "name": "python",
   "nbconvert_exporter": "python",
   "pygments_lexer": "ipython3",
   "version": "3.12.6"
  }
 },
 "nbformat": 4,
 "nbformat_minor": 2
}
